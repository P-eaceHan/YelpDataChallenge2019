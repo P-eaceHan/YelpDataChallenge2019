{
 "cells": [
  {
   "cell_type": "code",
   "execution_count": 8,
   "metadata": {},
   "outputs": [
    {
     "data": {
      "text/plain": [
       "'/Volumes/Krupa/MISStudy/Spring 2019/Search/Final Project/IR_FinalProject'"
      ]
     },
     "execution_count": 8,
     "metadata": {},
     "output_type": "execute_result"
    }
   ],
   "source": [
    "pwd"
   ]
  },
  {
   "cell_type": "code",
   "execution_count": 9,
   "metadata": {},
   "outputs": [
    {
     "name": "stdout",
     "output_type": "stream",
     "text": [
      "/Volumes/Krupa/MISStudy/Spring 2019/Search/Final Project/IR_FinalProject\n"
     ]
    }
   ],
   "source": [
    "cd /Volumes/Krupa/MISStudy/Spring 2019/Search/Final Project/IR_FinalProject/"
   ]
  },
  {
   "cell_type": "code",
   "execution_count": 10,
   "metadata": {},
   "outputs": [
    {
     "name": "stdout",
     "output_type": "stream",
     "text": [
      "\u001b[34mTask2\u001b[m\u001b[m/               \u001b[31mjson-simple-1.1.jar\u001b[m\u001b[m* \u001b[34msrc\u001b[m\u001b[m/\r\n",
      "\u001b[34mbin\u001b[m\u001b[m/                 \u001b[34moutput\u001b[m\u001b[m/\r\n"
     ]
    }
   ],
   "source": [
    "ls"
   ]
  },
  {
   "cell_type": "code",
   "execution_count": 152,
   "metadata": {},
   "outputs": [],
   "source": [
    "import pandas as pd\n",
    "from sklearn.naive_bayes import MultinomialNB, GaussianNB\n",
    "from sklearn.svm import LinearSVC\n",
    "from sklearn.feature_extraction.text import TfidfTransformer\n",
    "from sklearn import metrics\n",
    "df = pd.read_csv(\"/Volumes/Krupa/MISStudy/Spring 2019/Search/Final Project/IR_FinalProject/output/business_cat.csv\")"
   ]
  },
  {
   "cell_type": "code",
   "execution_count": 153,
   "metadata": {},
   "outputs": [
    {
     "data": {
      "text/html": [
       "<div>\n",
       "<style scoped>\n",
       "    .dataframe tbody tr th:only-of-type {\n",
       "        vertical-align: middle;\n",
       "    }\n",
       "\n",
       "    .dataframe tbody tr th {\n",
       "        vertical-align: top;\n",
       "    }\n",
       "\n",
       "    .dataframe thead th {\n",
       "        text-align: right;\n",
       "    }\n",
       "</style>\n",
       "<table border=\"1\" class=\"dataframe\">\n",
       "  <thead>\n",
       "    <tr style=\"text-align: right;\">\n",
       "      <th></th>\n",
       "      <th>business_ID</th>\n",
       "      <th>categories</th>\n",
       "    </tr>\n",
       "  </thead>\n",
       "  <tbody>\n",
       "    <tr>\n",
       "      <th>0</th>\n",
       "      <td>6nKR80xEGHYf2UxAeCug</td>\n",
       "      <td>Farmers Market  Gas Stations  Automotive  Car ...</td>\n",
       "    </tr>\n",
       "    <tr>\n",
       "      <th>1</th>\n",
       "      <td>Ja4stXdNYr39u5CZHMNtjw</td>\n",
       "      <td>Venues &amp; Event Spaces  Cocktail Bars  Nightlif...</td>\n",
       "    </tr>\n",
       "    <tr>\n",
       "      <th>2</th>\n",
       "      <td>SoLPRdhlyL5HAknBKTUcQ</td>\n",
       "      <td>Seafood  Sushi Bars  Restaurants  Japanese</td>\n",
       "    </tr>\n",
       "    <tr>\n",
       "      <th>3</th>\n",
       "      <td>yNPh5SO7wr8HPpVCDPbXQ</td>\n",
       "      <td>American (New)  American (Traditional)  Bars  ...</td>\n",
       "    </tr>\n",
       "    <tr>\n",
       "      <th>4</th>\n",
       "      <td>1qwkbN3wu3AGDxMTXVz2gA</td>\n",
       "      <td>Event Planning &amp; Services  Party &amp; Event Plann...</td>\n",
       "    </tr>\n",
       "  </tbody>\n",
       "</table>\n",
       "</div>"
      ],
      "text/plain": [
       "              business_ID                                         categories\n",
       "0    6nKR80xEGHYf2UxAeCug  Farmers Market  Gas Stations  Automotive  Car ...\n",
       "1  Ja4stXdNYr39u5CZHMNtjw  Venues & Event Spaces  Cocktail Bars  Nightlif...\n",
       "2   SoLPRdhlyL5HAknBKTUcQ         Seafood  Sushi Bars  Restaurants  Japanese\n",
       "3   yNPh5SO7wr8HPpVCDPbXQ  American (New)  American (Traditional)  Bars  ...\n",
       "4  1qwkbN3wu3AGDxMTXVz2gA  Event Planning & Services  Party & Event Plann..."
      ]
     },
     "execution_count": 153,
     "metadata": {},
     "output_type": "execute_result"
    }
   ],
   "source": [
    "df.head()"
   ]
  },
  {
   "cell_type": "code",
   "execution_count": 154,
   "metadata": {},
   "outputs": [],
   "source": [
    "df1 = pd.read_csv(\"/Volumes/Krupa/MISStudy/Spring 2019/Search/Final Project/IR_FinalProject/output/dataStopWordRemoved.csv\")"
   ]
  },
  {
   "cell_type": "code",
   "execution_count": 155,
   "metadata": {},
   "outputs": [
    {
     "data": {
      "text/plain": [
       "'cHdJXLlKNWixBXpDwEGbA'"
      ]
     },
     "execution_count": 155,
     "metadata": {},
     "output_type": "execute_result"
    }
   ],
   "source": [
    "busi_cat_id = df[\"business_ID\"]\n",
    "busi_cat_data = df1[\"business_ID\"]\n",
    "busi_cat_data[0]"
   ]
  },
  {
   "cell_type": "code",
   "execution_count": 156,
   "metadata": {},
   "outputs": [],
   "source": [
    "merged_busi_cat = pd.merge(df, df1, on=['business_ID'], how='inner')"
   ]
  },
  {
   "cell_type": "code",
   "execution_count": 157,
   "metadata": {},
   "outputs": [
    {
     "data": {
      "text/plain": [
       "(136904, 5)"
      ]
     },
     "execution_count": 157,
     "metadata": {},
     "output_type": "execute_result"
    }
   ],
   "source": [
    " merged_busi_cat.shape"
   ]
  },
  {
   "cell_type": "code",
   "execution_count": 158,
   "metadata": {},
   "outputs": [
    {
     "data": {
      "text/plain": [
       "Index(['business_ID', 'categories', 'Unnamed: 0', 'stars', 'text'], dtype='object')"
      ]
     },
     "execution_count": 158,
     "metadata": {},
     "output_type": "execute_result"
    }
   ],
   "source": [
    "merged_busi_cat.columns"
   ]
  },
  {
   "cell_type": "code",
   "execution_count": 159,
   "metadata": {},
   "outputs": [
    {
     "data": {
      "text/html": [
       "<div>\n",
       "<style scoped>\n",
       "    .dataframe tbody tr th:only-of-type {\n",
       "        vertical-align: middle;\n",
       "    }\n",
       "\n",
       "    .dataframe tbody tr th {\n",
       "        vertical-align: top;\n",
       "    }\n",
       "\n",
       "    .dataframe thead th {\n",
       "        text-align: right;\n",
       "    }\n",
       "</style>\n",
       "<table border=\"1\" class=\"dataframe\">\n",
       "  <thead>\n",
       "    <tr style=\"text-align: right;\">\n",
       "      <th></th>\n",
       "      <th>business_ID</th>\n",
       "      <th>categories</th>\n",
       "      <th>Unnamed: 0</th>\n",
       "      <th>stars</th>\n",
       "      <th>text</th>\n",
       "    </tr>\n",
       "  </thead>\n",
       "  <tbody>\n",
       "    <tr>\n",
       "      <th>0</th>\n",
       "      <td>6nKR80xEGHYf2UxAeCug</td>\n",
       "      <td>Farmers Market  Gas Stations  Automotive  Car ...</td>\n",
       "      <td>10</td>\n",
       "      <td>5.0</td>\n",
       "      <td>best barbecue mississippi!!!! come car washed ...</td>\n",
       "    </tr>\n",
       "    <tr>\n",
       "      <th>1</th>\n",
       "      <td>6nKR80xEGHYf2UxAeCug</td>\n",
       "      <td>Farmers Market  Gas Stations  Automotive  Car ...</td>\n",
       "      <td>23</td>\n",
       "      <td>3.0</td>\n",
       "      <td>food good price paid  good gas station  corn c...</td>\n",
       "    </tr>\n",
       "    <tr>\n",
       "      <th>2</th>\n",
       "      <td>6nKR80xEGHYf2UxAeCug</td>\n",
       "      <td>Farmers Market  Gas Stations  Automotive  Car ...</td>\n",
       "      <td>34</td>\n",
       "      <td>5.0</td>\n",
       "      <td>really excited try bbq seeing highlighted ddd ...</td>\n",
       "    </tr>\n",
       "    <tr>\n",
       "      <th>3</th>\n",
       "      <td>6nKR80xEGHYf2UxAeCug</td>\n",
       "      <td>Farmers Market  Gas Stations  Automotive  Car ...</td>\n",
       "      <td>47</td>\n",
       "      <td>5.0</td>\n",
       "      <td>tried brisket  tacos  ribs  grits  mexicorn  p...</td>\n",
       "    </tr>\n",
       "    <tr>\n",
       "      <th>4</th>\n",
       "      <td>6nKR80xEGHYf2UxAeCug</td>\n",
       "      <td>Farmers Market  Gas Stations  Automotive  Car ...</td>\n",
       "      <td>55</td>\n",
       "      <td>2.0</td>\n",
       "      <td>hyped national food channel visit  uncomfortab...</td>\n",
       "    </tr>\n",
       "  </tbody>\n",
       "</table>\n",
       "</div>"
      ],
      "text/plain": [
       "            business_ID                                         categories  \\\n",
       "0  6nKR80xEGHYf2UxAeCug  Farmers Market  Gas Stations  Automotive  Car ...   \n",
       "1  6nKR80xEGHYf2UxAeCug  Farmers Market  Gas Stations  Automotive  Car ...   \n",
       "2  6nKR80xEGHYf2UxAeCug  Farmers Market  Gas Stations  Automotive  Car ...   \n",
       "3  6nKR80xEGHYf2UxAeCug  Farmers Market  Gas Stations  Automotive  Car ...   \n",
       "4  6nKR80xEGHYf2UxAeCug  Farmers Market  Gas Stations  Automotive  Car ...   \n",
       "\n",
       "   Unnamed: 0  stars                                               text  \n",
       "0          10    5.0  best barbecue mississippi!!!! come car washed ...  \n",
       "1          23    3.0  food good price paid  good gas station  corn c...  \n",
       "2          34    5.0  really excited try bbq seeing highlighted ddd ...  \n",
       "3          47    5.0  tried brisket  tacos  ribs  grits  mexicorn  p...  \n",
       "4          55    2.0  hyped national food channel visit  uncomfortab...  "
      ]
     },
     "execution_count": 159,
     "metadata": {},
     "output_type": "execute_result"
    }
   ],
   "source": [
    "merged_busi_cat.head()"
   ]
  },
  {
   "cell_type": "code",
   "execution_count": 161,
   "metadata": {},
   "outputs": [],
   "source": [
    "#define X and y\n",
    "X = merged_busi_cat.text\n",
    "y = merged_busi_cat.categories"
   ]
  },
  {
   "cell_type": "code",
   "execution_count": 162,
   "metadata": {},
   "outputs": [],
   "source": [
    "# split X and y into training and testing sets\n",
    "from sklearn.model_selection import train_test_split\n",
    "X_train, X_test, y_train, y_test = train_test_split(X, y, random_state=1)"
   ]
  },
  {
   "cell_type": "code",
   "execution_count": 163,
   "metadata": {},
   "outputs": [
    {
     "name": "stdout",
     "output_type": "stream",
     "text": [
      "(102678,)\n",
      "(34226,)\n"
     ]
    }
   ],
   "source": [
    "# examine the object shapes\n",
    "print(X_train.shape)\n",
    "print(X_test.shape)"
   ]
  },
  {
   "cell_type": "code",
   "execution_count": 164,
   "metadata": {},
   "outputs": [],
   "source": [
    "from sklearn.feature_extraction.text import TfidfVectorizer\n",
    "vect = TfidfVectorizer()"
   ]
  },
  {
   "cell_type": "code",
   "execution_count": 165,
   "metadata": {},
   "outputs": [],
   "source": [
    "# fit and transform X_train\n",
    "X_train_dtm = vect.fit_transform(X_train)"
   ]
  },
  {
   "cell_type": "code",
   "execution_count": 166,
   "metadata": {},
   "outputs": [],
   "source": [
    "# only transform X_test\n",
    "X_test_dtm = vect.transform(X_test)"
   ]
  },
  {
   "cell_type": "code",
   "execution_count": 167,
   "metadata": {},
   "outputs": [
    {
     "name": "stdout",
     "output_type": "stream",
     "text": [
      "(102678, 56630)\n",
      "(34226, 56630)\n"
     ]
    }
   ],
   "source": [
    "# examine the shapes\n",
    "print(X_train_dtm.shape)\n",
    "print(X_test_dtm.shape)"
   ]
  },
  {
   "cell_type": "code",
   "execution_count": 168,
   "metadata": {},
   "outputs": [
    {
     "name": "stdout",
     "output_type": "stream",
     "text": [
      "Features:  56630\n"
     ]
    }
   ],
   "source": [
    "# print the number of features that were generated\n",
    "print('Features: ', X_train_dtm.shape[1])\n"
   ]
  },
  {
   "cell_type": "code",
   "execution_count": 169,
   "metadata": {},
   "outputs": [],
   "source": [
    "# use Multinomial Naive Bayes to predict the category\n",
    "nb = MultinomialNB()\n",
    "nb.fit(X_train_dtm, y_train)\n",
    "y_pred_class = nb.predict(X_test_dtm)"
   ]
  },
  {
   "cell_type": "code",
   "execution_count": 170,
   "metadata": {},
   "outputs": [
    {
     "name": "stdout",
     "output_type": "stream",
     "text": [
      "Accuracy:  0.350347688891486\n"
     ]
    }
   ],
   "source": [
    "# print the accuracy of its predictions\n",
    "print('Accuracy: ', metrics.accuracy_score(y_test, y_pred_class))"
   ]
  },
  {
   "cell_type": "code",
   "execution_count": 171,
   "metadata": {},
   "outputs": [
    {
     "name": "stderr",
     "output_type": "stream",
     "text": [
      "/Applications/anaconda3/lib/python3.7/site-packages/sklearn/metrics/classification.py:1135: UndefinedMetricWarning: Precision is ill-defined and being set to 0.0 in labels with no predicted samples.\n",
      "  'precision', 'predicted', average, warn_for)\n"
     ]
    },
    {
     "name": "stdout",
     "output_type": "stream",
     "text": [
      "Precision: 0.7578064061848269\n",
      "Recall:  0.350347688891486\n",
      "F1-Score: 0.333250287280643\n"
     ]
    },
    {
     "name": "stderr",
     "output_type": "stream",
     "text": [
      "/Applications/anaconda3/lib/python3.7/site-packages/sklearn/metrics/classification.py:1135: UndefinedMetricWarning: F-score is ill-defined and being set to 0.0 in labels with no predicted samples.\n",
      "  'precision', 'predicted', average, warn_for)\n"
     ]
    }
   ],
   "source": [
    "print(\"Precision:\" , metrics.precision_score(y_test, y_pred_class, average='weighted'))\n",
    "print(\"Recall: \", metrics.recall_score(y_test,y_pred_class, average='weighted'))\n",
    "print(\"F1-Score:\", metrics.f1_score(y_test,y_pred_class, average='weighted'))"
   ]
  },
  {
   "cell_type": "code",
   "execution_count": 172,
   "metadata": {},
   "outputs": [
    {
     "name": "stdout",
     "output_type": "stream",
     "text": [
      "Confusion Matrix: \n",
      "[[321   0   0 ...   0   0   0]\n",
      " [ 14  12   0 ...   0   0   0]\n",
      " [  5   0   3 ...   0   0   0]\n",
      " ...\n",
      " [ 12   0   0 ...  40   0   0]\n",
      " [  1   0   0 ...   0   8   0]\n",
      " [  0   0   0 ...   0   0  85]]\n"
     ]
    }
   ],
   "source": [
    "# print the confusion matrix\n",
    "print('Confusion Matrix: ')\n",
    "print(metrics.confusion_matrix(y_test, y_pred_class))"
   ]
  },
  {
   "cell_type": "code",
   "execution_count": 173,
   "metadata": {},
   "outputs": [
    {
     "data": {
      "text/plain": [
       "Caterers  Event Planning & Services  Restaurants  American (New)  Barbeque                                                                                                                         0.018027\n",
       "Sandwiches  Food  Burgers  Restaurants  American (New)  Specialty Food  Breakfast & Brunch  Breweries  Pizza  Nightlife  Bars  Pubs  Cheese Shops                                                  0.016742\n",
       "Sandwiches  Restaurants  Pizza  Salad  Tapas/Small Plates  Italian                                                                                                                                 0.016157\n",
       "Bakeries  American (New)  Nightlife  Bars  Coffee & Tea  Restaurants  Breakfast & Brunch  Food                                                                                                     0.016011\n",
       "Nightlife  Sandwiches  Bars  American (New)  Cafes  Burgers  Restaurants                                                                                                                           0.015836\n",
       "Restaurants  Italian  Sandwiches  Pizza                                                                                                                                                            0.015105\n",
       "Pizza  Italian  Restaurants  Salad  Local Flavor  American (Traditional)                                                                                                                           0.015076\n",
       "American (New)  American (Traditional)  Bars  Venues & Event Spaces  Event Planning & Services  Steakhouses  Gastropubs  Restaurants  Seafood  Burgers  Nightlife                                  0.014375\n",
       "Latin American  Restaurants  Nightlife  Mexican  Bars                                                                                                                                              0.014375\n",
       "Vegetarian  New Mexican Cuisine  Cafes  Restaurants  Mexican  Bars  Breakfast & Brunch  Tacos  Vegan  Seafood  Nightlife  Tex-Mex                                                                  0.014171\n",
       "Soul Food  Southern  Waffles  Restaurants                                                                                                                                                          0.013382\n",
       "Restaurants  Breakfast & Brunch  Salad  American (Traditional)                                                                                                                                     0.013148\n",
       "American (Traditional)  Event Planning & Services  Restaurants  American (New)  Venues & Event Spaces  Breakfast & Brunch  Mediterranean                                                           0.013002\n",
       "Cocktail Bars  Bars  Nightlife  American (New)  Local Flavor  Gastropubs  Salad  Restaurants                                                                                                       0.012973\n",
       "Caribbean  Szechuan  Mexican  Restaurants  Chinese  New Mexican Cuisine  Asian Fusion  Latin American                                                                                              0.012213\n",
       "Restaurants  Event Planning & Services  Caterers  Nightlife  Pubs  Bars  British                                                                                                                   0.012184\n",
       "Restaurants  Gastropubs  Mexican  Tex-Mex  Nightlife  Cocktail Bars  Bars                                                                                                                          0.011366\n",
       "Salad  Restaurants  Food  Breakfast & Brunch  Desserts  American (New)                                                                                                                             0.011103\n",
       "Nightlife  Sandwiches  American (Traditional)  Restaurants  Bars  American (New)  Breakfast & Brunch                                                                                               0.011044\n",
       "Sandwiches  Breakfast & Brunch  Mexican  Restaurants  Cafes                                                                                                                                        0.010927\n",
       "American (New)  Restaurants  Bars  Gastropubs  Event Planning & Services  Food  Nightlife  Beer  Wine & Spirits  British  Vegetarian  Venues & Event Spaces  Arts & Entertainment  Music Venues    0.010810\n",
       "Breakfast & Brunch  Restaurants  American (New)  American (Traditional)                                                                                                                            0.010518\n",
       "Restaurants  Seafood  Breakfast & Brunch  Cafes  Burgers                                                                                                                                           0.010109\n",
       "Sandwiches  Delis  Grocery  Food  Italian  Restaurants                                                                                                                                             0.010080\n",
       "Vegan  Restaurants  Gluten-Free  Vegetarian                                                                                                                                                        0.009992\n",
       "Grocery  Food  Restaurants  Breakfast & Brunch  Coffee & Tea  American (New)  Local Flavor                                                                                                         0.009905\n",
       "Nightlife  Wine Bars  Bars  Restaurants  Italian  Breakfast & Brunch                                                                                                                               0.009817\n",
       "Restaurants  Wraps  Waffles  Coffee & Tea  Breakfast & Brunch  Cafes  Gluten-Free  Food  American (Traditional)  Sandwiches                                                                        0.009466\n",
       "Vegan  Vegetarian  Salad  Restaurants  American (New)                                                                                                                                              0.009408\n",
       "Breweries  Restaurants  American (New)  Food  Burgers                                                                                                                                              0.009350\n",
       "                                                                                                                                                                                                     ...   \n",
       "Restaurants  Food  Donuts  Gastropubs  Coffee & Tea  Hot Dogs  American (New)                                                                                                                      0.006457\n",
       "Persian/Iranian  Restaurants  Middle Eastern  Mediterranean                                                                                                                                        0.006457\n",
       "Japanese  Sushi Bars  Seafood  Restaurants  Steakhouses  Breakfast & Brunch                                                                                                                        0.006428\n",
       "Sandwiches  Breakfast & Brunch  Restaurants  American (Traditional)                                                                                                                                0.006428\n",
       "Restaurants  Bars  Nightlife  Pubs  Irish  Seafood                                                                                                                                                 0.006399\n",
       "Fish & Chips  Food  Seafood  Hawaiian  Mexican  Tacos  Restaurants  Poke                                                                                                                           0.006369\n",
       "Event Planning & Services  Sandwiches  Food  Restaurants  American (New)  Coffee & Tea  Breakfast & Brunch  Party & Event Planning  Caterers                                                       0.006253\n",
       "American (Traditional)  Beer  Wine & Spirits  Food  Gastropubs  Restaurants                                                                                                                        0.006223\n",
       "Soul Food  Breakfast & Brunch  Waffles  Restaurants  Southern                                                                                                                                      0.006194\n",
       "Grocery  Mediterranean  Food  Restaurants  Greek  Middle Eastern                                                                                                                                   0.006194\n",
       "Bars  Pizza  Restaurants  Lounges  Cocktail Bars  Nightlife                                                                                                                                        0.006165\n",
       "Restaurants  Specialty Food  Food  Soup  Breakfast & Brunch  Local Flavor  Mexican  Tacos                                                                                                          0.006136\n",
       "Nightlife  Vegetarian  Restaurants  Thai  Gluten-Free  Asian Fusion  Bars                                                                                                                          0.006136\n",
       "Bars  Restaurants  Nightlife  Cajun/Creole  Barbeque  Seafood                                                                                                                                      0.006136\n",
       "Food  Restaurants  Coffee & Tea  Creperies  Breakfast & Brunch  Cafes                                                                                                                              0.006136\n",
       "Restaurants  Tex-Mex  Nightlife  Venues & Event Spaces  Vegetarian  Event Planning & Services  Bars  Mexican  Gluten-Free                                                                          0.006077\n",
       "American (New)  Cocktail Bars  Nightlife  Bars  Restaurants  Burgers                                                                                                                               0.006048\n",
       "Restaurants  American (New)  Gluten-Free  Burgers  Barbeque                                                                                                                                        0.006019\n",
       "American (New)  Restaurants  Food  Breakfast & Brunch  Arts & Entertainment  Nightlife  Bars  Beer  Wine & Spirits                                                                                 0.005990\n",
       "Mexican  American (Traditional)  Restaurants  American (New)                                                                                                                                       0.005960\n",
       "Sandwiches  Comfort Food  Gastropubs  Restaurants                                                                                                                                                  0.005931\n",
       "Cafes  American (New)  Breakfast & Brunch  Restaurants  Juice Bars & Smoothies  Food  Salad                                                                                                        0.005902\n",
       "Vietnamese  Restaurants  Sandwiches  Soup                                                                                                                                                          0.005902\n",
       "Food  American (Traditional)  Ice Cream & Frozen Yogurt  Desserts  Coffee & Tea  Restaurants                                                                                                       0.005873\n",
       "Venues & Event Spaces  Cocktail Bars  Nightlife  Bars  Mexican  Event Planning & Services  Sports Bars  Restaurants                                                                                0.005844\n",
       "Event Planning & Services  Hotels & Travel  Hotels  Resorts  Casinos  Arts & Entertainment                                                                                                         0.005756\n",
       "Restaurants  Sandwiches  Burgers  Salad  Hot Dogs                                                                                                                                                  0.005697\n",
       "Restaurants  Breakfast & Brunch  Mexican  Italian  American (New)                                                                                                                                  0.005551\n",
       "Bars  Event Planning & Services  Venues & Event Spaces  Restaurants  American (New)  Nightlife  Whiskey Bars                                                                                       0.005551\n",
       "American (New)  Restaurants  Food  Breakfast & Brunch  American (Traditional)  Coffee & Tea  Sandwiches                                                                                            0.005464\n",
       "Name: categories, Length: 119, dtype: float64"
      ]
     },
     "execution_count": 173,
     "metadata": {},
     "output_type": "execute_result"
    }
   ],
   "source": [
    "###NULL Accuracy : No of correct classifications when we predict all record to be star rating 5####\n",
    "y_test.value_counts()/y_test.shape"
   ]
  },
  {
   "cell_type": "code",
   "execution_count": 174,
   "metadata": {},
   "outputs": [],
   "source": [
    "svm = LinearSVC()\n",
    "svm.fit(X_train_dtm.todense(), y_train)\n",
    "y_pred_class = svm.predict(X_test_dtm)"
   ]
  },
  {
   "cell_type": "code",
   "execution_count": 175,
   "metadata": {},
   "outputs": [
    {
     "name": "stdout",
     "output_type": "stream",
     "text": [
      "Accuracy:  0.6708934727984573\n"
     ]
    }
   ],
   "source": [
    "print('Accuracy: ', metrics.accuracy_score(y_test, y_pred_class))"
   ]
  },
  {
   "cell_type": "code",
   "execution_count": 176,
   "metadata": {},
   "outputs": [
    {
     "name": "stdout",
     "output_type": "stream",
     "text": [
      "F1 Score: 0.6670468911422359\n"
     ]
    }
   ],
   "source": [
    "print('F1 Score:', metrics.f1_score(y_test, y_pred_class,average='weighted'))"
   ]
  },
  {
   "cell_type": "code",
   "execution_count": 177,
   "metadata": {},
   "outputs": [
    {
     "name": "stdout",
     "output_type": "stream",
     "text": [
      "Precision Score: 0.6684324242005428\n"
     ]
    }
   ],
   "source": [
    "print('Precision Score:', metrics.precision_score(y_test, y_pred_class,average=\"weighted\"))"
   ]
  },
  {
   "cell_type": "code",
   "execution_count": 178,
   "metadata": {},
   "outputs": [
    {
     "name": "stdout",
     "output_type": "stream",
     "text": [
      "Recall Score: 0.6708934727984573\n"
     ]
    }
   ],
   "source": [
    "print('Recall Score:', metrics.recall_score(y_test,y_pred_class,average=\"weighted\"))"
   ]
  },
  {
   "cell_type": "code",
   "execution_count": null,
   "metadata": {},
   "outputs": [],
   "source": []
  },
  {
   "cell_type": "code",
   "execution_count": null,
   "metadata": {},
   "outputs": [],
   "source": []
  },
  {
   "cell_type": "code",
   "execution_count": null,
   "metadata": {},
   "outputs": [],
   "source": []
  },
  {
   "cell_type": "code",
   "execution_count": 37,
   "metadata": {},
   "outputs": [],
   "source": [
    "import pandas as pd"
   ]
  },
  {
   "cell_type": "code",
   "execution_count": 38,
   "metadata": {},
   "outputs": [
    {
     "name": "stdout",
     "output_type": "stream",
     "text": [
      "/Volumes/Krupa/MISStudy/Spring 2019/Search/Final Project\n"
     ]
    }
   ],
   "source": [
    "cd /Volumes/Krupa/MISStudy/Spring 2019/Search/Final Project/"
   ]
  },
  {
   "cell_type": "code",
   "execution_count": 39,
   "metadata": {},
   "outputs": [],
   "source": [
    "bm25_df = pd.read_csv(\"/Volumes/Krupa/MISStudy/Spring 2019/Search/Final Project/IR_FinalProject/output/QueryResults/BM25QueryResults.csv\")"
   ]
  },
  {
   "cell_type": "code",
   "execution_count": 40,
   "metadata": {},
   "outputs": [],
   "source": [
    "classic_df = pd.read_csv(\"/Volumes/Krupa/MISStudy/Spring 2019/Search/Final Project/IR_FinalProject/output/QueryResults/ClassicQueryResults.csv\")"
   ]
  },
  {
   "cell_type": "code",
   "execution_count": 41,
   "metadata": {},
   "outputs": [],
   "source": [
    "lmd_df = pd.read_csv(\"/Volumes/Krupa/MISStudy/Spring 2019/Search/Final Project/IR_FinalProject/output/QueryResults/LMDQueryResults.csv\")"
   ]
  },
  {
   "cell_type": "code",
   "execution_count": 42,
   "metadata": {},
   "outputs": [],
   "source": [
    "lmjm_df = pd.read_csv(\"/Volumes/Krupa/MISStudy/Spring 2019/Search/Final Project/IR_FinalProject/output/QueryResults/LMJMQueryResults.csv\")"
   ]
  },
  {
   "cell_type": "code",
   "execution_count": 179,
   "metadata": {},
   "outputs": [],
   "source": [
    "bm25_df.columns = [\"business_ID\", \"Category-1\", \"Value-1\",\"Category-2\", \"Value-2\",\"Category-3\", \"Value-3\"]"
   ]
  },
  {
   "cell_type": "code",
   "execution_count": 180,
   "metadata": {},
   "outputs": [
    {
     "data": {
      "text/html": [
       "<div>\n",
       "<style scoped>\n",
       "    .dataframe tbody tr th:only-of-type {\n",
       "        vertical-align: middle;\n",
       "    }\n",
       "\n",
       "    .dataframe tbody tr th {\n",
       "        vertical-align: top;\n",
       "    }\n",
       "\n",
       "    .dataframe thead th {\n",
       "        text-align: right;\n",
       "    }\n",
       "</style>\n",
       "<table border=\"1\" class=\"dataframe\">\n",
       "  <thead>\n",
       "    <tr style=\"text-align: right;\">\n",
       "      <th></th>\n",
       "      <th>business_ID</th>\n",
       "      <th>Category-1</th>\n",
       "      <th>Value-1</th>\n",
       "      <th>Category-2</th>\n",
       "      <th>Value-2</th>\n",
       "      <th>Category-3</th>\n",
       "      <th>Value-3</th>\n",
       "    </tr>\n",
       "  </thead>\n",
       "  <tbody>\n",
       "    <tr>\n",
       "      <th>0</th>\n",
       "      <td>a2ZBDIXmwBm7IWnXR6LKg</td>\n",
       "      <td>Caterers</td>\n",
       "      <td>3.037275</td>\n",
       "      <td>Mediterranean</td>\n",
       "      <td>2.234906</td>\n",
       "      <td>Event Planning &amp; Services</td>\n",
       "      <td>0.604209</td>\n",
       "    </tr>\n",
       "    <tr>\n",
       "      <th>1</th>\n",
       "      <td>MVHGmZEwtKrXH11ySGweEw</td>\n",
       "      <td>Mediterranean</td>\n",
       "      <td>1.168756</td>\n",
       "      <td>Seafood</td>\n",
       "      <td>0.978283</td>\n",
       "      <td>Chinese</td>\n",
       "      <td>0.793769</td>\n",
       "    </tr>\n",
       "    <tr>\n",
       "      <th>2</th>\n",
       "      <td>HCCgrVnHQ2FI6lHsLvUQ</td>\n",
       "      <td>Mediterranean</td>\n",
       "      <td>1.668491</td>\n",
       "      <td>Asian Fusion</td>\n",
       "      <td>1.632188</td>\n",
       "      <td>Venues &amp; Event Spaces</td>\n",
       "      <td>1.537549</td>\n",
       "    </tr>\n",
       "    <tr>\n",
       "      <th>3</th>\n",
       "      <td>qx6WhZ42eDKmBchZDax4dQ</td>\n",
       "      <td>Pizza</td>\n",
       "      <td>0.497394</td>\n",
       "      <td>Event Planning &amp; Services</td>\n",
       "      <td>0.418670</td>\n",
       "      <td>Sandwiches</td>\n",
       "      <td>0.385398</td>\n",
       "    </tr>\n",
       "    <tr>\n",
       "      <th>4</th>\n",
       "      <td>eS29S06lvsDW04wVrIVxg</td>\n",
       "      <td>Arts &amp; Entertainment</td>\n",
       "      <td>2.348780</td>\n",
       "      <td>Cafes</td>\n",
       "      <td>2.164929</td>\n",
       "      <td>Venues &amp; Event Spaces</td>\n",
       "      <td>1.447308</td>\n",
       "    </tr>\n",
       "  </tbody>\n",
       "</table>\n",
       "</div>"
      ],
      "text/plain": [
       "              business_ID            Category-1   Value-1  \\\n",
       "0   a2ZBDIXmwBm7IWnXR6LKg              Caterers  3.037275   \n",
       "1  MVHGmZEwtKrXH11ySGweEw         Mediterranean  1.168756   \n",
       "2    HCCgrVnHQ2FI6lHsLvUQ         Mediterranean  1.668491   \n",
       "3  qx6WhZ42eDKmBchZDax4dQ                 Pizza  0.497394   \n",
       "4   eS29S06lvsDW04wVrIVxg  Arts & Entertainment  2.348780   \n",
       "\n",
       "                  Category-2   Value-2                 Category-3   Value-3  \n",
       "0              Mediterranean  2.234906  Event Planning & Services  0.604209  \n",
       "1                    Seafood  0.978283                    Chinese  0.793769  \n",
       "2               Asian Fusion  1.632188      Venues & Event Spaces  1.537549  \n",
       "3  Event Planning & Services  0.418670                 Sandwiches  0.385398  \n",
       "4                      Cafes  2.164929      Venues & Event Spaces  1.447308  "
      ]
     },
     "execution_count": 180,
     "metadata": {},
     "output_type": "execute_result"
    }
   ],
   "source": [
    "bm25_df.head()"
   ]
  },
  {
   "cell_type": "code",
   "execution_count": 45,
   "metadata": {},
   "outputs": [],
   "source": [
    "classic_df.columns = [\"business_ID\", \"Category-1\", \"Value-1\",\"Category-2\", \"Value-2\",\"Category-3\", \"Value-3\"]"
   ]
  },
  {
   "cell_type": "code",
   "execution_count": 46,
   "metadata": {},
   "outputs": [
    {
     "data": {
      "text/html": [
       "<div>\n",
       "<style scoped>\n",
       "    .dataframe tbody tr th:only-of-type {\n",
       "        vertical-align: middle;\n",
       "    }\n",
       "\n",
       "    .dataframe tbody tr th {\n",
       "        vertical-align: top;\n",
       "    }\n",
       "\n",
       "    .dataframe thead th {\n",
       "        text-align: right;\n",
       "    }\n",
       "</style>\n",
       "<table border=\"1\" class=\"dataframe\">\n",
       "  <thead>\n",
       "    <tr style=\"text-align: right;\">\n",
       "      <th></th>\n",
       "      <th>business_ID</th>\n",
       "      <th>Category-1</th>\n",
       "      <th>Value-1</th>\n",
       "      <th>Category-2</th>\n",
       "      <th>Value-2</th>\n",
       "      <th>Category-3</th>\n",
       "      <th>Value-3</th>\n",
       "    </tr>\n",
       "  </thead>\n",
       "  <tbody>\n",
       "    <tr>\n",
       "      <th>0</th>\n",
       "      <td>a2ZBDIXmwBm7IWnXR6LKg</td>\n",
       "      <td>Food</td>\n",
       "      <td>0.129198</td>\n",
       "      <td>Salad</td>\n",
       "      <td>0.036039</td>\n",
       "      <td>Mediterranean</td>\n",
       "      <td>0.035044</td>\n",
       "    </tr>\n",
       "    <tr>\n",
       "      <th>1</th>\n",
       "      <td>MVHGmZEwtKrXH11ySGweEw</td>\n",
       "      <td>Seafood</td>\n",
       "      <td>0.130388</td>\n",
       "      <td>Food</td>\n",
       "      <td>0.089296</td>\n",
       "      <td>Salad</td>\n",
       "      <td>0.034678</td>\n",
       "    </tr>\n",
       "    <tr>\n",
       "      <th>2</th>\n",
       "      <td>HCCgrVnHQ2FI6lHsLvUQ</td>\n",
       "      <td>Breakfast &amp; Brunch</td>\n",
       "      <td>0.108772</td>\n",
       "      <td>Food</td>\n",
       "      <td>0.090199</td>\n",
       "      <td>Coffee &amp; Tea</td>\n",
       "      <td>0.051837</td>\n",
       "    </tr>\n",
       "    <tr>\n",
       "      <th>3</th>\n",
       "      <td>qx6WhZ42eDKmBchZDax4dQ</td>\n",
       "      <td>Pizza</td>\n",
       "      <td>0.181003</td>\n",
       "      <td>Food</td>\n",
       "      <td>0.093869</td>\n",
       "      <td>American (New)</td>\n",
       "      <td>0.050123</td>\n",
       "    </tr>\n",
       "    <tr>\n",
       "      <th>4</th>\n",
       "      <td>eS29S06lvsDW04wVrIVxg</td>\n",
       "      <td>Food</td>\n",
       "      <td>0.095181</td>\n",
       "      <td>Mexican</td>\n",
       "      <td>0.081468</td>\n",
       "      <td>Salad</td>\n",
       "      <td>0.028093</td>\n",
       "    </tr>\n",
       "  </tbody>\n",
       "</table>\n",
       "</div>"
      ],
      "text/plain": [
       "              business_ID          Category-1   Value-1 Category-2   Value-2  \\\n",
       "0   a2ZBDIXmwBm7IWnXR6LKg                Food  0.129198      Salad  0.036039   \n",
       "1  MVHGmZEwtKrXH11ySGweEw             Seafood  0.130388       Food  0.089296   \n",
       "2    HCCgrVnHQ2FI6lHsLvUQ  Breakfast & Brunch  0.108772       Food  0.090199   \n",
       "3  qx6WhZ42eDKmBchZDax4dQ               Pizza  0.181003       Food  0.093869   \n",
       "4   eS29S06lvsDW04wVrIVxg                Food  0.095181    Mexican  0.081468   \n",
       "\n",
       "       Category-3   Value-3  \n",
       "0   Mediterranean  0.035044  \n",
       "1           Salad  0.034678  \n",
       "2    Coffee & Tea  0.051837  \n",
       "3  American (New)  0.050123  \n",
       "4           Salad  0.028093  "
      ]
     },
     "execution_count": 46,
     "metadata": {},
     "output_type": "execute_result"
    }
   ],
   "source": [
    "classic_df.head()"
   ]
  },
  {
   "cell_type": "code",
   "execution_count": 47,
   "metadata": {},
   "outputs": [],
   "source": [
    "lmd_df.columns = [\"business_ID\", \"Category-1\", \"Value-1\",\"Category-2\", \"Value-2\",\"Category-3\", \"Value-3\"]"
   ]
  },
  {
   "cell_type": "code",
   "execution_count": 48,
   "metadata": {},
   "outputs": [
    {
     "data": {
      "text/html": [
       "<div>\n",
       "<style scoped>\n",
       "    .dataframe tbody tr th:only-of-type {\n",
       "        vertical-align: middle;\n",
       "    }\n",
       "\n",
       "    .dataframe tbody tr th {\n",
       "        vertical-align: top;\n",
       "    }\n",
       "\n",
       "    .dataframe thead th {\n",
       "        text-align: right;\n",
       "    }\n",
       "</style>\n",
       "<table border=\"1\" class=\"dataframe\">\n",
       "  <thead>\n",
       "    <tr style=\"text-align: right;\">\n",
       "      <th></th>\n",
       "      <th>business_ID</th>\n",
       "      <th>Category-1</th>\n",
       "      <th>Value-1</th>\n",
       "      <th>Category-2</th>\n",
       "      <th>Value-2</th>\n",
       "      <th>Category-3</th>\n",
       "      <th>Value-3</th>\n",
       "    </tr>\n",
       "  </thead>\n",
       "  <tbody>\n",
       "    <tr>\n",
       "      <th>0</th>\n",
       "      <td>a2ZBDIXmwBm7IWnXR6LKg</td>\n",
       "      <td>Caterers</td>\n",
       "      <td>2.793126</td>\n",
       "      <td>Mediterranean</td>\n",
       "      <td>1.835154</td>\n",
       "      <td>Restaurants</td>\n",
       "      <td>0.595281</td>\n",
       "    </tr>\n",
       "    <tr>\n",
       "      <th>1</th>\n",
       "      <td>MVHGmZEwtKrXH11ySGweEw</td>\n",
       "      <td>Seafood</td>\n",
       "      <td>3.338644</td>\n",
       "      <td>Home Services</td>\n",
       "      <td>0.040152</td>\n",
       "      <td>Gas Stations</td>\n",
       "      <td>0.000000</td>\n",
       "    </tr>\n",
       "    <tr>\n",
       "      <th>2</th>\n",
       "      <td>HCCgrVnHQ2FI6lHsLvUQ</td>\n",
       "      <td>Breakfast &amp; Brunch</td>\n",
       "      <td>2.722535</td>\n",
       "      <td>Coffee &amp; Tea</td>\n",
       "      <td>1.162840</td>\n",
       "      <td>Venues &amp; Event Spaces</td>\n",
       "      <td>1.035277</td>\n",
       "    </tr>\n",
       "    <tr>\n",
       "      <th>3</th>\n",
       "      <td>qx6WhZ42eDKmBchZDax4dQ</td>\n",
       "      <td>Pizza</td>\n",
       "      <td>2.461787</td>\n",
       "      <td>American (New)</td>\n",
       "      <td>1.414302</td>\n",
       "      <td>Home Services</td>\n",
       "      <td>0.780895</td>\n",
       "    </tr>\n",
       "    <tr>\n",
       "      <th>4</th>\n",
       "      <td>eS29S06lvsDW04wVrIVxg</td>\n",
       "      <td>Mexican</td>\n",
       "      <td>2.173264</td>\n",
       "      <td>Cafes</td>\n",
       "      <td>1.454534</td>\n",
       "      <td>Arts &amp; Entertainment</td>\n",
       "      <td>1.042000</td>\n",
       "    </tr>\n",
       "  </tbody>\n",
       "</table>\n",
       "</div>"
      ],
      "text/plain": [
       "              business_ID          Category-1   Value-1      Category-2  \\\n",
       "0   a2ZBDIXmwBm7IWnXR6LKg            Caterers  2.793126   Mediterranean   \n",
       "1  MVHGmZEwtKrXH11ySGweEw             Seafood  3.338644   Home Services   \n",
       "2    HCCgrVnHQ2FI6lHsLvUQ  Breakfast & Brunch  2.722535    Coffee & Tea   \n",
       "3  qx6WhZ42eDKmBchZDax4dQ               Pizza  2.461787  American (New)   \n",
       "4   eS29S06lvsDW04wVrIVxg             Mexican  2.173264           Cafes   \n",
       "\n",
       "    Value-2             Category-3   Value-3  \n",
       "0  1.835154            Restaurants  0.595281  \n",
       "1  0.040152           Gas Stations  0.000000  \n",
       "2  1.162840  Venues & Event Spaces  1.035277  \n",
       "3  1.414302          Home Services  0.780895  \n",
       "4  1.454534   Arts & Entertainment  1.042000  "
      ]
     },
     "execution_count": 48,
     "metadata": {},
     "output_type": "execute_result"
    }
   ],
   "source": [
    "lmd_df.head()"
   ]
  },
  {
   "cell_type": "code",
   "execution_count": 49,
   "metadata": {},
   "outputs": [],
   "source": [
    "lmjm_df.columns = [\"business_ID\", \"Category-1\", \"Value-1\",\"Category-2\", \"Value-2\",\"Category-3\", \"Value-3\"]"
   ]
  },
  {
   "cell_type": "code",
   "execution_count": 50,
   "metadata": {},
   "outputs": [
    {
     "data": {
      "text/html": [
       "<div>\n",
       "<style scoped>\n",
       "    .dataframe tbody tr th:only-of-type {\n",
       "        vertical-align: middle;\n",
       "    }\n",
       "\n",
       "    .dataframe tbody tr th {\n",
       "        vertical-align: top;\n",
       "    }\n",
       "\n",
       "    .dataframe thead th {\n",
       "        text-align: right;\n",
       "    }\n",
       "</style>\n",
       "<table border=\"1\" class=\"dataframe\">\n",
       "  <thead>\n",
       "    <tr style=\"text-align: right;\">\n",
       "      <th></th>\n",
       "      <th>business_ID</th>\n",
       "      <th>Category-1</th>\n",
       "      <th>Value-1</th>\n",
       "      <th>Category-2</th>\n",
       "      <th>Value-2</th>\n",
       "      <th>Category-3</th>\n",
       "      <th>Value-3</th>\n",
       "    </tr>\n",
       "  </thead>\n",
       "  <tbody>\n",
       "    <tr>\n",
       "      <th>0</th>\n",
       "      <td>a2ZBDIXmwBm7IWnXR6LKg</td>\n",
       "      <td>Caterers</td>\n",
       "      <td>2.104129</td>\n",
       "      <td>Mediterranean</td>\n",
       "      <td>1.322914</td>\n",
       "      <td>Event Planning &amp; Services</td>\n",
       "      <td>0.875134</td>\n",
       "    </tr>\n",
       "    <tr>\n",
       "      <th>1</th>\n",
       "      <td>MVHGmZEwtKrXH11ySGweEw</td>\n",
       "      <td>Seafood</td>\n",
       "      <td>2.597716</td>\n",
       "      <td>Home Services</td>\n",
       "      <td>0.522971</td>\n",
       "      <td>Event Planning &amp; Services</td>\n",
       "      <td>0.369631</td>\n",
       "    </tr>\n",
       "    <tr>\n",
       "      <th>2</th>\n",
       "      <td>HCCgrVnHQ2FI6lHsLvUQ</td>\n",
       "      <td>Breakfast &amp; Brunch</td>\n",
       "      <td>2.002455</td>\n",
       "      <td>Coffee &amp; Tea</td>\n",
       "      <td>1.155737</td>\n",
       "      <td>Venues &amp; Event Spaces</td>\n",
       "      <td>0.916491</td>\n",
       "    </tr>\n",
       "    <tr>\n",
       "      <th>3</th>\n",
       "      <td>qx6WhZ42eDKmBchZDax4dQ</td>\n",
       "      <td>Pizza</td>\n",
       "      <td>1.818986</td>\n",
       "      <td>American (New)</td>\n",
       "      <td>1.091271</td>\n",
       "      <td>Home Services</td>\n",
       "      <td>0.822171</td>\n",
       "    </tr>\n",
       "    <tr>\n",
       "      <th>4</th>\n",
       "      <td>eS29S06lvsDW04wVrIVxg</td>\n",
       "      <td>Mexican</td>\n",
       "      <td>1.569783</td>\n",
       "      <td>Arts &amp; Entertainment</td>\n",
       "      <td>1.104243</td>\n",
       "      <td>Cafes</td>\n",
       "      <td>1.048064</td>\n",
       "    </tr>\n",
       "  </tbody>\n",
       "</table>\n",
       "</div>"
      ],
      "text/plain": [
       "              business_ID          Category-1   Value-1            Category-2  \\\n",
       "0   a2ZBDIXmwBm7IWnXR6LKg            Caterers  2.104129         Mediterranean   \n",
       "1  MVHGmZEwtKrXH11ySGweEw             Seafood  2.597716         Home Services   \n",
       "2    HCCgrVnHQ2FI6lHsLvUQ  Breakfast & Brunch  2.002455          Coffee & Tea   \n",
       "3  qx6WhZ42eDKmBchZDax4dQ               Pizza  1.818986        American (New)   \n",
       "4   eS29S06lvsDW04wVrIVxg             Mexican  1.569783  Arts & Entertainment   \n",
       "\n",
       "    Value-2                 Category-3   Value-3  \n",
       "0  1.322914  Event Planning & Services  0.875134  \n",
       "1  0.522971  Event Planning & Services  0.369631  \n",
       "2  1.155737      Venues & Event Spaces  0.916491  \n",
       "3  1.091271              Home Services  0.822171  \n",
       "4  1.104243                      Cafes  1.048064  "
      ]
     },
     "execution_count": 50,
     "metadata": {},
     "output_type": "execute_result"
    }
   ],
   "source": [
    "lmjm_df.head()"
   ]
  },
  {
   "cell_type": "code",
   "execution_count": 52,
   "metadata": {},
   "outputs": [
    {
     "data": {
      "text/plain": [
       "Text(0.5,1,'ClassicQueryResults')"
      ]
     },
     "execution_count": 52,
     "metadata": {},
     "output_type": "execute_result"
    },
    {
     "data": {
      "image/png": "[encoded data removed]",
      "text/plain": [
       "<Figure size 432x288 with 1 Axes>"
      ]
     },
     "metadata": {
      "needs_background": "light"
     },
     "output_type": "display_data"
    }
   ],
   "source": [
    "classic_df['Category-1'].value_counts().plot(kind='bar').set_title(\"ClassicQueryResults\")"
   ]
  },
  {
   "cell_type": "code",
   "execution_count": null,
   "metadata": {},
   "outputs": [],
   "source": []
  },
  {
   "cell_type": "code",
   "execution_count": 53,
   "metadata": {},
   "outputs": [
    {
     "data": {
      "text/plain": [
       "Text(0.5,1,'BM25QueryResults')"
      ]
     },
     "execution_count": 53,
     "metadata": {},
     "output_type": "execute_result"
    },
    {
     "data": {
      "image/png": "[encoded data removed]",
      "text/plain": [
       "<Figure size 432x288 with 1 Axes>"
      ]
     },
     "metadata": {
      "needs_background": "light"
     },
     "output_type": "display_data"
    }
   ],
   "source": [
    "bm25_df['Category-1'].value_counts().plot(kind='bar').set_title(\"BM25QueryResults\")"
   ]
  },
  {
   "cell_type": "code",
   "execution_count": 54,
   "metadata": {},
   "outputs": [
    {
     "data": {
      "text/plain": [
       "Text(0.5,1,'LMJMQueryResults')"
      ]
     },
     "execution_count": 54,
     "metadata": {},
     "output_type": "execute_result"
    },
    {
     "data": {
      "image/png": "[encoded data removed]",
      "text/plain": [
       "<Figure size 432x288 with 1 Axes>"
      ]
     },
     "metadata": {
      "needs_background": "light"
     },
     "output_type": "display_data"
    }
   ],
   "source": [
    "lmjm_df['Category-1'].value_counts().plot(kind='bar').set_title(\"LMJMQueryResults\")"
   ]
  },
  {
   "cell_type": "code",
   "execution_count": 55,
   "metadata": {},
   "outputs": [
    {
     "data": {
      "text/plain": [
       "Text(0.5,1,'LMDQueryResults')"
      ]
     },
     "execution_count": 55,
     "metadata": {},
     "output_type": "execute_result"
    },
    {
     "data": {
      "image/png": "[encoded data removed]",
      "text/plain": [
       "<Figure size 432x288 with 1 Axes>"
      ]
     },
     "metadata": {
      "needs_background": "light"
     },
     "output_type": "display_data"
    }
   ],
   "source": [
    "lmd_df['Category-1'].value_counts().plot(kind='bar').set_title(\"LMDQueryResults\")"
   ]
  },
  {
   "cell_type": "code",
   "execution_count": 56,
   "metadata": {},
   "outputs": [],
   "source": [
    "tfidf_df = pd.read_csv('/Volumes/Krupa/MISStudy/Spring 2019/Search/Final Project/IR_FinalProject/output/index/TFIDF.csv')"
   ]
  },
  {
   "cell_type": "code",
   "execution_count": 57,
   "metadata": {},
   "outputs": [],
   "source": [
    "tfidf_df.columns = [\"business_ID\", \"Category-1\", \"Value-1\",\"Category-2\", \"Value-2\",\"Category-3\", \"Value-3\"]"
   ]
  },
  {
   "cell_type": "code",
   "execution_count": 58,
   "metadata": {},
   "outputs": [
    {
     "data": {
      "text/plain": [
       "Text(0.5,1,'TFIDFQueryResults')"
      ]
     },
     "execution_count": 58,
     "metadata": {},
     "output_type": "execute_result"
    },
    {
     "data": {
      "image/png": "[encoded data removed]",
      "text/plain": [
       "<Figure size 432x288 with 1 Axes>"
      ]
     },
     "metadata": {
      "needs_background": "light"
     },
     "output_type": "display_data"
    }
   ],
   "source": [
    "tfidf_df['Category-1'].value_counts().plot(kind='bar').set_title(\"TFIDFQueryResults\")"
   ]
  },
  {
   "cell_type": "code",
   "execution_count": 59,
   "metadata": {},
   "outputs": [
    {
     "data": {
      "text/html": [
       "<div>\n",
       "<style scoped>\n",
       "    .dataframe tbody tr th:only-of-type {\n",
       "        vertical-align: middle;\n",
       "    }\n",
       "\n",
       "    .dataframe tbody tr th {\n",
       "        vertical-align: top;\n",
       "    }\n",
       "\n",
       "    .dataframe thead th {\n",
       "        text-align: right;\n",
       "    }\n",
       "</style>\n",
       "<table border=\"1\" class=\"dataframe\">\n",
       "  <thead>\n",
       "    <tr style=\"text-align: right;\">\n",
       "      <th></th>\n",
       "      <th>business_ID</th>\n",
       "      <th>Category-1</th>\n",
       "      <th>Value-1</th>\n",
       "      <th>Category-2</th>\n",
       "      <th>Value-2</th>\n",
       "      <th>Category-3</th>\n",
       "      <th>Value-3</th>\n",
       "    </tr>\n",
       "  </thead>\n",
       "  <tbody>\n",
       "    <tr>\n",
       "      <th>0</th>\n",
       "      <td>a2ZBDIXmwBm7IWnXR6LKg</td>\n",
       "      <td>American (New)</td>\n",
       "      <td>15.051499</td>\n",
       "      <td>Venues &amp; Event Spaces</td>\n",
       "      <td>1.806180</td>\n",
       "      <td>Seafood</td>\n",
       "      <td>0.301030</td>\n",
       "    </tr>\n",
       "    <tr>\n",
       "      <th>1</th>\n",
       "      <td>MVHGmZEwtKrXH11ySGweEw</td>\n",
       "      <td>Seafood</td>\n",
       "      <td>161.954130</td>\n",
       "      <td>American (New)</td>\n",
       "      <td>17.760769</td>\n",
       "      <td>Venues &amp; Event Spaces</td>\n",
       "      <td>0.903090</td>\n",
       "    </tr>\n",
       "    <tr>\n",
       "      <th>2</th>\n",
       "      <td>HCCgrVnHQ2FI6lHsLvUQ</td>\n",
       "      <td>American (New)</td>\n",
       "      <td>18.964890</td>\n",
       "      <td>Venues &amp; Event Spaces</td>\n",
       "      <td>1.857333</td>\n",
       "      <td>Seafood</td>\n",
       "      <td>1.204120</td>\n",
       "    </tr>\n",
       "    <tr>\n",
       "      <th>3</th>\n",
       "      <td>qx6WhZ42eDKmBchZDax4dQ</td>\n",
       "      <td>American (New)</td>\n",
       "      <td>89.706940</td>\n",
       "      <td>Venues &amp; Event Spaces</td>\n",
       "      <td>1.806180</td>\n",
       "      <td>NaN</td>\n",
       "      <td>NaN</td>\n",
       "    </tr>\n",
       "    <tr>\n",
       "      <th>4</th>\n",
       "      <td>eS29S06lvsDW04wVrIVxg</td>\n",
       "      <td>American (New)</td>\n",
       "      <td>29.199910</td>\n",
       "      <td>Seafood</td>\n",
       "      <td>15.954590</td>\n",
       "      <td>Venues &amp; Event Spaces</td>\n",
       "      <td>2.584331</td>\n",
       "    </tr>\n",
       "  </tbody>\n",
       "</table>\n",
       "</div>"
      ],
      "text/plain": [
       "              business_ID      Category-1     Value-1             Category-2  \\\n",
       "0   a2ZBDIXmwBm7IWnXR6LKg  American (New)   15.051499  Venues & Event Spaces   \n",
       "1  MVHGmZEwtKrXH11ySGweEw         Seafood  161.954130         American (New)   \n",
       "2    HCCgrVnHQ2FI6lHsLvUQ  American (New)   18.964890  Venues & Event Spaces   \n",
       "3  qx6WhZ42eDKmBchZDax4dQ  American (New)   89.706940  Venues & Event Spaces   \n",
       "4   eS29S06lvsDW04wVrIVxg  American (New)   29.199910                Seafood   \n",
       "\n",
       "     Value-2             Category-3   Value-3  \n",
       "0   1.806180                Seafood  0.301030  \n",
       "1  17.760769  Venues & Event Spaces  0.903090  \n",
       "2   1.857333                Seafood  1.204120  \n",
       "3   1.806180                    NaN       NaN  \n",
       "4  15.954590  Venues & Event Spaces  2.584331  "
      ]
     },
     "execution_count": 59,
     "metadata": {},
     "output_type": "execute_result"
    }
   ],
   "source": [
    "tfidf_df.head()"
   ]
  },
  {
   "cell_type": "code",
   "execution_count": null,
   "metadata": {},
   "outputs": [],
   "source": []
  }
 ],
 "metadata": {
  "kernelspec": {
   "display_name": "Python 3",
   "language": "python",
   "name": "python3"
  },
  "language_info": {
   "codemirror_mode": {
    "name": "ipython",
    "version": 3
   },
   "file_extension": ".py",
   "mimetype": "text/x-python",
   "name": "python",
   "nbconvert_exporter": "python",
   "pygments_lexer": "ipython3",
   "version": "3.7.0"
  }
 },
 "nbformat": 4,
 "nbformat_minor": 2
}
